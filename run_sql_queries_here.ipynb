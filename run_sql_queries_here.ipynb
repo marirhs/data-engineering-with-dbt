{
 "cells": [
  {
   "cell_type": "code",
   "execution_count": null,
   "metadata": {},
   "outputs": [],
   "source": [
    "import duckdb\n",
    "import pandas as pd"
   ]
  },
  {
   "cell_type": "code",
   "execution_count": null,
   "metadata": {},
   "outputs": [],
   "source": [
    "sql_query = '''\n",
    "show tables\n",
    "'''\n",
    "\n",
    "with duckdb.connect('data/nyc_parking_violations.db') as con:\n",
    "    display(con.sql(sql_query).df())"
   ]
  },
  {
   "cell_type": "code",
   "execution_count": null,
   "metadata": {},
   "outputs": [],
   "source": [
    "sql_query = '''\n",
    "SELECT\n",
    "    violation_code,\n",
    "    SUM(fee_usd) AS total_revenue_usd\n",
    "FROM\n",
    "    silver_parking_violation_codes\n",
    "GROUP BY\n",
    "    violation_code\n",
    "having not(sum(fee_usd)) \n",
    "'''\n",
    "\n",
    "with duckdb.connect('data/nyc_parking_violations.db') as con:\n",
    "   display(con.sql(sql_query).df())"
   ]
  },
  {
   "cell_type": "code",
   "execution_count": null,
   "metadata": {},
   "outputs": [],
   "source": [
    "sql_query_import_1='''\n",
    "create or replace table parking_violation_codes as \n",
    "select\n",
    "*\n",
    "from read_csv_auto\n",
    "('data/dof_parking_violation_codes.csv', normalize_names=TRUE)\n",
    "'''\n",
    "\n",
    "sql_query_import_2='''\n",
    "create or replace table parking_violations_2023 as \n",
    "select\n",
    "*\n",
    "from read_csv_auto\n",
    "('data/parking_violations_issued_fiscal_year_2023_sample.csv', normalize_names=TRUE)\n",
    "'''\n",
    "\n",
    "with duckdb.connect('data/nyc_parking_violations.db') as conn:\n",
    "  conn.sql(sql_query_import_1)\n",
    "  conn.sql(sql_query_import_2)\n",
    "  display(conn.sql('show tables').df())\n",
    "\n"
   ]
  },
  {
   "cell_type": "code",
   "execution_count": null,
   "metadata": {},
   "outputs": [],
   "source": []
  }
 ],
 "metadata": {
  "kernelspec": {
   "display_name": "Python 3",
   "language": "python",
   "name": "python3"
  },
  "language_info": {
   "codemirror_mode": {
    "name": "ipython",
    "version": 3
   },
   "file_extension": ".py",
   "mimetype": "text/x-python",
   "name": "python",
   "nbconvert_exporter": "python",
   "pygments_lexer": "ipython3",
   "version": "3.12.4"
  },
  "orig_nbformat": 4,
  "vscode": {
   "interpreter": {
    "hash": "31f2aee4e71d21fbe5cf8b01ff0e069b9275f58929596ceb00d14d90e3e16cd6"
   }
  }
 },
 "nbformat": 4,
 "nbformat_minor": 2
}
